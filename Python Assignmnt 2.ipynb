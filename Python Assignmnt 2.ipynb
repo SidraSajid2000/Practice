{
 "cells": [
  {
   "cell_type": "code",
   "execution_count": null,
   "metadata": {},
   "outputs": [],
   "source": [
    "sub1=int(input(\"Enter marks of the English subject:   \"));\n",
    "sub2=int(input(\"Enter marks of the Maths subject:   \"));\n",
    "sub3=int(input(\"Enter marks of the Urdu subject:   \"));\n",
    "sub4=int(input(\"Enter marks of the Biology subject:   \"));\n",
    "sub5=int(input(\"Enter marks of the Chemistry subject:   \"));\n",
    "avg=(sub1+sub2+sub3+sub4)/5\n",
    "if (avg>=90):\n",
    "      print(\"Grade: A\")\n",
    "if (avg>=80):\n",
    "    print(\"Grade: B\")\n",
    "elif(avg>=70):\n",
    "        print(\"Grade: C\")\n",
    "elif(avg>=60):\n",
    "     print(\"Grade: B\")\n",
    "else:\n",
    "     print(\"Grade: F\")"
   ]
  },
  {
   "cell_type": "code",
   "execution_count": null,
   "metadata": {},
   "outputs": [],
   "source": [
    "num=int(input(\" \"));\n",
    "x - num % 2\n",
    "if num > 0:\n",
    "    print(\"odd\")\n",
    "else:\n",
    "    print(\"even\")"
   ]
  },
  {
   "cell_type": "code",
   "execution_count": null,
   "metadata": {},
   "outputs": [],
   "source": [
    "Cities = [3245235, \"callfornia\" , \"karachi\" , \"Islamabad\" , \"Lahore\" , \"Multan\" , \"Peshawar\"]\n",
    "cars = [123123,\"audi\" , \"bently\" , \"corolla\" , \"land cruiser\"]\n",
    "print(len(cars))\n",
    "print(len(Cities))"
   ]
  },
  {
   "cell_type": "code",
   "execution_count": null,
   "metadata": {},
   "outputs": [],
   "source": [
    "num = [2,1,0,3,6,5,8,100]\n",
    "print(sum(num))\n",
    "print(len(num))"
   ]
  },
  {
   "cell_type": "code",
   "execution_count": null,
   "metadata": {},
   "outputs": [],
   "source": [
    "num=[2,1,0,335,3,6,5,8,100,5000,5667]\n",
    "num.sort()\n",
    "print(\"largest num\" , max(num))\n",
    "print(\"lowest num\" , min(num))"
   ]
  },
  {
   "cell_type": "code",
   "execution_count": null,
   "metadata": {},
   "outputs": [],
   "source": [
    "a= [ 1, 1, 2, 4, 3, 5, 8, 13, 21, 34, 55, 89]\n",
    "for i in a:\n",
    "    if i <5:\n",
    "        print(i)"
   ]
  },
  {
   "cell_type": "code",
   "execution_count": null,
   "metadata": {},
   "outputs": [],
   "source": []
  },
  {
   "cell_type": "code",
   "execution_count": null,
   "metadata": {},
   "outputs": [],
   "source": []
  },
  {
   "cell_type": "code",
   "execution_count": null,
   "metadata": {},
   "outputs": [],
   "source": []
  },
  {
   "cell_type": "code",
   "execution_count": null,
   "metadata": {},
   "outputs": [],
   "source": []
  }
 ],
 "metadata": {
  "kernelspec": {
   "display_name": "Python 3",
   "language": "python",
   "name": "python3"
  },
  "language_info": {
   "codemirror_mode": {
    "name": "ipython",
    "version": 3
   },
   "file_extension": ".py",
   "mimetype": "text/x-python",
   "name": "python",
   "nbconvert_exporter": "python",
   "pygments_lexer": "ipython3",
   "version": "3.7.4"
  }
 },
 "nbformat": 4,
 "nbformat_minor": 2
}
