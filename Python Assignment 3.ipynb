{
 "cells": [
  {
   "cell_type": "code",
   "execution_count": null,
   "metadata": {},
   "outputs": [],
   "source": [
    "val1= input (\"enter first number\")\n",
    "val2= input (\"enter second number\")\n",
    "operator= input (\"enter operator\")\n",
    "val1= int(val1)\n",
    "val2= int(val2)"
   ]
  },
  {
   "cell_type": "code",
   "execution_count": null,
   "metadata": {},
   "outputs": [],
   "source": [
    "if operator== '+':\n",
    "    val=val1+val2\n",
    "    print(val,'answer')"
   ]
  },
  {
   "cell_type": "code",
   "execution_count": null,
   "metadata": {},
   "outputs": [],
   "source": [
    "elif operator=='-':\n",
    "  val=val1-val2\n",
    "  print(val,'answer')"
   ]
  },
  {
   "cell_type": "code",
   "execution_count": null,
   "metadata": {},
   "outputs": [],
   "source": [
    "if operator== '*':\n",
    "    val=val1*val2\n",
    "    print(val,'answer')"
   ]
  },
  {
   "cell_type": "code",
   "execution_count": null,
   "metadata": {},
   "outputs": [],
   "source": [
    "elif operator=='/':\n",
    "      val=val1 / val2\n",
    "         print(val,'answer')\n",
    "            else:\n",
    "                print (\"enter correct operator\")"
   ]
  },
  {
   "cell_type": "code",
   "execution_count": null,
   "metadata": {},
   "outputs": [],
   "source": [
    "arr = ['Sidra','Sajid', 30, 20, True, 10.5, 'a','b']\n",
    "for i in arr:\n",
    "    if type (i)==int:\n",
    "        print(i,\"is a numeric value in list\")\n",
    "        elif type (i) == float:\n",
    "            print (i,\"is a numeric value in list\")"
   ]
  },
  {
   "cell_type": "code",
   "execution_count": null,
   "metadata": {},
   "outputs": [],
   "source": [
    "dic = {}\n",
    "keyinput= input (\"Enterkey\")\n",
    "valueinput = input (\"Entervalue\")\n",
    "dic.update({keyinput:valueinput})\n",
    "print(dic)"
   ]
  },
  {
   "cell_type": "code",
   "execution_count": null,
   "metadata": {},
   "outputs": [],
   "source": [
    "dic = {\n",
    "    'num1' : 12,\n",
    "    'num2' : 15,\n",
    "    'string' : 'Name',\n",
    "    'char':'a',\n",
    "    'num3' : 17,\n",
    "    'num4' : 21,\n",
    "\n",
    "}\n",
    "\n",
    "sum = 0\n",
    "for i in dic.values():\n",
    "    if type (i) == int :\n",
    "        sum +=i\n",
    "        print(\"Sum of all numeric items a dictionary is\" , sum)"
   ]
  },
  {
   "cell_type": "code",
   "execution_count": null,
   "metadata": {},
   "outputs": [],
   "source": [
    "arr = [1,2,3,2,1,5,6,5,5,5]\n",
    "list_range = len (arr)\n",
    "repeated = []\n",
    "for i in range (list_range):\n",
    "    a = i + 1\n",
    "    for b in range (a, list_range):\n",
    "        if arr [i] == arr [b] and (arr[i])\n",
    "        print (\"Repeated item in list are\" , repeated)"
   ]
  },
  {
   "cell_type": "code",
   "execution_count": null,
   "metadata": {},
   "outputs": [],
   "source": [
    "dic = {\n",
    "    'num1' : 12,\n",
    "    'num2' : 15,\n",
    "    'string' : 'Name',\n",
    "    'char':'a',\n",
    "    'num3' : 17,\n",
    "    'num4' : 21,\n",
    "}\n",
    "check_key = input (\"Enter Key Name check if exist or not\")\n",
    "flag = False\n",
    "for i in dic.keys ():\n",
    "    if i == check_key:\n",
    "        flag = True\n",
    "        break\n",
    "        \n",
    "        if flag:\n",
    "            print (\"Given Key exist\")\n",
    "            else:\n",
    "                print (\"Given Key does not exist\")"
   ]
  }
 ],
 "metadata": {
  "kernelspec": {
   "display_name": "Python 3",
   "language": "python",
   "name": "python3"
  },
  "language_info": {
   "codemirror_mode": {
    "name": "ipython",
    "version": 3
   },
   "file_extension": ".py",
   "mimetype": "text/x-python",
   "name": "python",
   "nbconvert_exporter": "python",
   "pygments_lexer": "ipython3",
   "version": "3.7.4"
  }
 },
 "nbformat": 4,
 "nbformat_minor": 2
}
